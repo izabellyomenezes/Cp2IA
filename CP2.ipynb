{
  "nbformat": 4,
  "nbformat_minor": 0,
  "metadata": {
    "colab": {
      "provenance": []
    },
    "kernelspec": {
      "name": "python3",
      "display_name": "Python 3"
    },
    "language_info": {
      "name": "python"
    }
  },
  "cells": [
    {
      "cell_type": "code",
      "execution_count": 25,
      "metadata": {
        "id": "1qNwYmWQwy2C"
      },
      "outputs": [],
      "source": [
        "import numpy as np\n",
        "import pandas as pd"
      ]
    },
    {
      "cell_type": "code",
      "source": [
        "from google.colab import drive\n",
        "drive.mount('/content/drive')"
      ],
      "metadata": {
        "colab": {
          "base_uri": "https://localhost:8080/"
        },
        "id": "tHHGP7hujD4U",
        "outputId": "83c7487d-41da-4e23-eb53-33d1b06545cf"
      },
      "execution_count": 50,
      "outputs": [
        {
          "output_type": "stream",
          "name": "stdout",
          "text": [
            "Drive already mounted at /content/drive; to attempt to forcibly remount, call drive.mount(\"/content/drive\", force_remount=True).\n"
          ]
        }
      ]
    },
    {
      "cell_type": "code",
      "source": [
        "#lendo a tabela\n",
        "caminho_excel = '/content/drive/MyDrive/solicitacoescredito.csv'\n",
        "df = pd.read_csv(caminho_excel)\n",
        "df.head(10)"
      ],
      "metadata": {
        "id": "MUmeUDiH9LCE"
      },
      "execution_count": null,
      "outputs": []
    },
    {
      "cell_type": "markdown",
      "source": [
        "## Solucionando problema 1\n",
        "\n",
        "Criando critérios para designar grupos específicos através da sua situação (status), se \"AprovadoAnalista\", \"AprovadoComite\" ou \"DocumentacaoReprovada\""
      ],
      "metadata": {
        "id": "FI9OkLXuBwOf"
      }
    },
    {
      "cell_type": "code",
      "source": [
        "# Filtrar os clientes com situações específicas\n",
        "\n",
        "situacoes_interessantes = [\"DocumentacaoReprovada\"]\n",
        "clientes_filtrados = df[df['status'].isin(situacoes_interessantes)]\n",
        "\n",
        "clientes_filtrados"
      ],
      "metadata": {
        "id": "EAHX4LaE_0OP"
      },
      "execution_count": null,
      "outputs": []
    },
    {
      "cell_type": "code",
      "source": [
        "# Filtrar os clientes pelo valor solicitado de credito\n",
        "\n",
        "valores_solicitados = df['valorSolicitado'].unique()\n",
        "\n",
        "valor_especifico = 150\n",
        "tabela_valores_especifico = df[df['valorSolicitado'] == valor_especifico]\n",
        "\n",
        "tabela_valores_especifico"
      ],
      "metadata": {
        "id": "7MjbIxTvLAiR"
      },
      "execution_count": null,
      "outputs": []
    },
    {
      "cell_type": "markdown",
      "source": [
        "## Solucionando problema 2\n",
        "\n",
        "Criando condições para solicitações de novos clientes.\n"
      ],
      "metadata": {
        "id": "8ZUg67oOasDh"
      }
    },
    {
      "cell_type": "code",
      "source": [
        "novo_cliente = {'nomeFantasia': 'Alysson', 'valorSolicitado': 150}\n",
        "\n",
        "if novo_cliente['valorSolicitado'] >= 100:\n",
        "  df.loc[len(df)] = novo_cliente\n",
        "  print('Cliente adicionado com sucesso.')\n",
        "else:\n",
        "  print('O valor mínimo para a solicitação é de 100 reais.')\n",
        "\n",
        "print(df)"
      ],
      "metadata": {
        "id": "_lRysvQZa6nn"
      },
      "execution_count": null,
      "outputs": []
    }
  ]
}